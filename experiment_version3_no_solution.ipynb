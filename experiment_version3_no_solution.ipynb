{
  "cells": [
    {
      "cell_type": "markdown",
      "metadata": {
        "id": "view-in-github",
        "colab_type": "text"
      },
      "source": [
        "<a href=\"https://colab.research.google.com/github/LittleAprilFool/aprilwang.me/blob/main/experiment_version3_no_solution.ipynb\" target=\"_parent\"><img src=\"https://colab.research.google.com/assets/colab-badge.svg\" alt=\"Open In Colab\"/></a>"
      ]
    },
    {
      "cell_type": "markdown",
      "id": "0d1a20f7",
      "metadata": {
        "id": "0d1a20f7"
      },
      "source": [
        "# CompetiLearn User Study"
      ]
    },
    {
      "cell_type": "markdown",
      "id": "bc31f7eb-2338-4d75-b100-389f38f40da3",
      "metadata": {
        "id": "bc31f7eb-2338-4d75-b100-389f38f40da3"
      },
      "source": [
        "Welcome to the experiment notebook. In this notebook you are going to tackle the Quora Insincere Questions Classification Kaggle competition."
      ]
    },
    {
      "cell_type": "markdown",
      "id": "dbeafeb3",
      "metadata": {
        "id": "dbeafeb3"
      },
      "source": [
        "## Competition Background"
      ]
    },
    {
      "cell_type": "markdown",
      "id": "2ec08aa6",
      "metadata": {
        "id": "2ec08aa6"
      },
      "source": [
        "https://www.kaggle.com/competitions/quora-insincere-questions-classification"
      ]
    },
    {
      "cell_type": "markdown",
      "id": "2ee07718",
      "metadata": {
        "id": "2ee07718"
      },
      "source": [
        "## Tips on using chatbots"
      ]
    },
    {
      "cell_type": "markdown",
      "id": "5b53c96d",
      "metadata": {
        "id": "5b53c96d"
      },
      "source": [
        "1. Try to ask specific questions about the task, including necessary information in your query. (e.g. ask \"how to load the dataset in this competition\" instead of \"how to load the data\")\n",
        "2. Do not ask questions that are not related to your task (e.g. \"hello\", \"how are you\")"
      ]
    },
    {
      "cell_type": "markdown",
      "id": "529b3c8c",
      "metadata": {
        "id": "529b3c8c"
      },
      "source": [
        "## Assisting Methods Introduction"
      ]
    },
    {
      "cell_type": "markdown",
      "source": [
        "You can now access to the CompetiLearn system if you haven't: https://alpha.peachhub-cntr1.inf.ethz.ch/  \n",
        "\n",
        "We will introduce each method during the task sessions."
      ],
      "metadata": {
        "id": "3UYjvhNZAKrD"
      },
      "id": "3UYjvhNZAKrD"
    },
    {
      "cell_type": "markdown",
      "id": "252a37bc",
      "metadata": {
        "id": "252a37bc"
      },
      "source": [
        "### Alpha:"
      ]
    },
    {
      "cell_type": "markdown",
      "id": "63df2b84",
      "metadata": {
        "id": "63df2b84"
      },
      "source": [
        "1. Alpha already know you are doing this competition and have knowledge about this competition. Each response from Alpha is based on several notebooks submitted to this competition. Alpha will provide you with the kaggle posts this response is based on.\n",
        "2. Advanced Search: You can adjust how many Kaggle posts each response is based on and determine the method for retrieving these posts. The available retrieval methods include relevance, votes, and views."
      ]
    },
    {
      "cell_type": "markdown",
      "id": "b70a15d1",
      "metadata": {
        "id": "b70a15d1"
      },
      "source": [
        "### Beta"
      ]
    },
    {
      "cell_type": "markdown",
      "id": "daaf065e",
      "metadata": {
        "id": "daaf065e"
      },
      "source": [
        "1. Beta already know you are doing this competition and have knowledge about this competition."
      ]
    },
    {
      "cell_type": "markdown",
      "id": "93146850",
      "metadata": {
        "id": "93146850"
      },
      "source": [
        "### Gamma"
      ]
    },
    {
      "cell_type": "markdown",
      "id": "987cd03f",
      "metadata": {
        "id": "987cd03f"
      },
      "source": [
        "1. Gamma already know you are doing this competition and have knowledge about this competition."
      ]
    },
    {
      "cell_type": "markdown",
      "source": [
        "### Browsing Kaggle Posts"
      ],
      "metadata": {
        "id": "OV7NOeiwLv1u"
      },
      "id": "OV7NOeiwLv1u"
    },
    {
      "cell_type": "markdown",
      "source": [
        "https://www.kaggle.com/competitions/quora-insincere-questions-classification/code"
      ],
      "metadata": {
        "id": "D703-2PUThZo"
      },
      "id": "D703-2PUThZo"
    },
    {
      "cell_type": "markdown",
      "id": "b053504b",
      "metadata": {
        "id": "b053504b"
      },
      "source": [
        "## Task 1: Load and Explore the data"
      ]
    },
    {
      "cell_type": "code",
      "source": [
        "# Install gdown\n",
        "!pip install gdown"
      ],
      "metadata": {
        "id": "R102i7pNtz9e",
        "colab": {
          "base_uri": "https://localhost:8080/"
        },
        "outputId": "35cc4a0f-5f94-4c66-f19c-971bc23e2b34"
      },
      "id": "R102i7pNtz9e",
      "execution_count": null,
      "outputs": [
        {
          "output_type": "stream",
          "name": "stdout",
          "text": [
            "Requirement already satisfied: gdown in /usr/local/lib/python3.10/dist-packages (5.1.0)\n",
            "Requirement already satisfied: beautifulsoup4 in /usr/local/lib/python3.10/dist-packages (from gdown) (4.12.3)\n",
            "Requirement already satisfied: filelock in /usr/local/lib/python3.10/dist-packages (from gdown) (3.15.4)\n",
            "Requirement already satisfied: requests[socks] in /usr/local/lib/python3.10/dist-packages (from gdown) (2.31.0)\n",
            "Requirement already satisfied: tqdm in /usr/local/lib/python3.10/dist-packages (from gdown) (4.66.4)\n",
            "Requirement already satisfied: soupsieve>1.2 in /usr/local/lib/python3.10/dist-packages (from beautifulsoup4->gdown) (2.5)\n",
            "Requirement already satisfied: charset-normalizer<4,>=2 in /usr/local/lib/python3.10/dist-packages (from requests[socks]->gdown) (3.3.2)\n",
            "Requirement already satisfied: idna<4,>=2.5 in /usr/local/lib/python3.10/dist-packages (from requests[socks]->gdown) (3.7)\n",
            "Requirement already satisfied: urllib3<3,>=1.21.1 in /usr/local/lib/python3.10/dist-packages (from requests[socks]->gdown) (2.0.7)\n",
            "Requirement already satisfied: certifi>=2017.4.17 in /usr/local/lib/python3.10/dist-packages (from requests[socks]->gdown) (2024.7.4)\n",
            "Requirement already satisfied: PySocks!=1.5.7,>=1.5.6 in /usr/local/lib/python3.10/dist-packages (from requests[socks]->gdown) (1.7.1)\n"
          ]
        }
      ]
    },
    {
      "cell_type": "code",
      "source": [
        "# Mount Google Drive\n",
        "from google.colab import drive\n",
        "drive.mount('/content/drive')\n",
        "\n",
        "# Install gdown\n",
        "!pip install gdown\n",
        "\n",
        "# Use gdown to download files from the shared folder\n",
        "import gdown\n",
        "import os\n",
        "\n",
        "# Replace with your actual folder ID\n",
        "folder_id = '1tQZMfRgwWu2s7MxwlfgAyyqrZR_c-uj3'  # Your folder ID here\n",
        "\n",
        "# Function to download all files in the folder\n",
        "def download_files_from_drive_folder(folder_id):\n",
        "    url = f\"https://drive.google.com/drive/folders/{folder_id}?usp=sharing\"\n",
        "    !gdown --folder {url}\n",
        "\n",
        "# Download files\n",
        "download_files_from_drive_folder(folder_id)\n",
        "\n",
        "\n"
      ],
      "metadata": {
        "colab": {
          "base_uri": "https://localhost:8080/"
        },
        "id": "GBBLCnl7t70w",
        "outputId": "d846e94e-11a9-4613-ccdd-dcc1de68f3b7"
      },
      "id": "GBBLCnl7t70w",
      "execution_count": null,
      "outputs": [
        {
          "output_type": "stream",
          "name": "stdout",
          "text": [
            "Mounted at /content/drive\n",
            "Requirement already satisfied: gdown in /usr/local/lib/python3.10/dist-packages (5.1.0)\n",
            "Requirement already satisfied: beautifulsoup4 in /usr/local/lib/python3.10/dist-packages (from gdown) (4.12.3)\n",
            "Requirement already satisfied: filelock in /usr/local/lib/python3.10/dist-packages (from gdown) (3.15.4)\n",
            "Requirement already satisfied: requests[socks] in /usr/local/lib/python3.10/dist-packages (from gdown) (2.31.0)\n",
            "Requirement already satisfied: tqdm in /usr/local/lib/python3.10/dist-packages (from gdown) (4.66.4)\n",
            "Requirement already satisfied: soupsieve>1.2 in /usr/local/lib/python3.10/dist-packages (from beautifulsoup4->gdown) (2.5)\n",
            "Requirement already satisfied: charset-normalizer<4,>=2 in /usr/local/lib/python3.10/dist-packages (from requests[socks]->gdown) (3.3.2)\n",
            "Requirement already satisfied: idna<4,>=2.5 in /usr/local/lib/python3.10/dist-packages (from requests[socks]->gdown) (3.7)\n",
            "Requirement already satisfied: urllib3<3,>=1.21.1 in /usr/local/lib/python3.10/dist-packages (from requests[socks]->gdown) (2.0.7)\n",
            "Requirement already satisfied: certifi>=2017.4.17 in /usr/local/lib/python3.10/dist-packages (from requests[socks]->gdown) (2024.7.4)\n",
            "Requirement already satisfied: PySocks!=1.5.7,>=1.5.6 in /usr/local/lib/python3.10/dist-packages (from requests[socks]->gdown) (1.7.1)\n",
            "Retrieving folder contents\n",
            "Processing file 1JpoFG16APtR0RGvjY2jaypHUBelOwCY4 sample_submission.csv\n",
            "Processing file 1jqphEkAf6Kc8VtB0w_YM6D9JgKng2b73 test.csv\n",
            "Processing file 1A0NEJkw0gbx7I_osfExXvyJ_sYpU4fW3 train.csv\n",
            "Retrieving folder contents completed\n",
            "Building directory structure\n",
            "Building directory structure completed\n",
            "Downloading...\n",
            "From: https://drive.google.com/uc?id=1JpoFG16APtR0RGvjY2jaypHUBelOwCY4\n",
            "To: /content/data/sample_submission.csv\n",
            "100% 8.64M/8.64M [00:00<00:00, 80.9MB/s]\n",
            "Downloading...\n",
            "From: https://drive.google.com/uc?id=1jqphEkAf6Kc8VtB0w_YM6D9JgKng2b73\n",
            "To: /content/data/test.csv\n",
            "100% 35.0M/35.0M [00:00<00:00, 129MB/s]\n",
            "Downloading...\n",
            "From (original): https://drive.google.com/uc?id=1A0NEJkw0gbx7I_osfExXvyJ_sYpU4fW3\n",
            "From (redirected): https://drive.google.com/uc?id=1A0NEJkw0gbx7I_osfExXvyJ_sYpU4fW3&confirm=t&uuid=34414018-832b-4cca-b841-5e34dafab6d4\n",
            "To: /content/data/train.csv\n",
            "100% 124M/124M [00:01<00:00, 71.1MB/s]\n",
            "Download completed\n"
          ]
        }
      ]
    },
    {
      "cell_type": "code",
      "execution_count": null,
      "id": "dd573dd7",
      "metadata": {
        "colab": {
          "base_uri": "https://localhost:8080/"
        },
        "id": "dd573dd7",
        "outputId": "39a430e5-c56b-4092-817f-604668ff3294"
      },
      "outputs": [
        {
          "output_type": "stream",
          "name": "stdout",
          "text": [
            "                    qid                                      question_text  \\\n",
            "0  00002165364db923c7e6  How did Quebec nationalists see their province...   \n",
            "1  000032939017120e6e44  Do you have an adopted dog, how would you enco...   \n",
            "2  0000412ca6e4628ce2cf  Why does velocity affect time? Does velocity a...   \n",
            "3  000042bf85aa498cd78e  How did Otto von Guericke used the Magdeburg h...   \n",
            "4  0000455dfa3e01eae3af  Can I convert montra helicon D to a mountain b...   \n",
            "\n",
            "   target  \n",
            "0       0  \n",
            "1       0  \n",
            "2       0  \n",
            "3       0  \n",
            "4       0  \n",
            "                    qid                                      question_text\n",
            "0  0000163e3ea7c7a74cd7  Why do so many women become so rude and arroga...\n",
            "1  00002bd4fb5d505b9161  When should I apply for RV college of engineer...\n",
            "2  00007756b4a147d2b0b3  What is it really like to be a nurse practitio...\n",
            "3  000086e4b7e1c7146103                             Who are entrepreneurs?\n",
            "4  0000c4c3fbe8785a3090   Is education really making good people nowadays?\n"
          ]
        }
      ],
      "source": [
        "import pandas as pd\n",
        "\n",
        "# Load the training data\n",
        "train_df = pd.read_csv('/content/data/train.csv')\n",
        "\n",
        "# Load the testing data\n",
        "test_df = pd.read_csv('/content/data/test.csv')\n",
        "\n",
        "# Display the first 5 rows of the training data and the testing data\n",
        "print(train_df.head())\n",
        "print(test_df.head())"
      ]
    },
    {
      "cell_type": "markdown",
      "id": "1d036bf8",
      "metadata": {
        "id": "1d036bf8"
      },
      "source": [
        "1. What is the meaning of each attribute? Are there any missing values in the training dataset?"
      ]
    },
    {
      "cell_type": "code",
      "source": [],
      "metadata": {
        "id": "i1Qk9t78_UF4"
      },
      "id": "i1Qk9t78_UF4",
      "execution_count": null,
      "outputs": []
    },
    {
      "cell_type": "markdown",
      "id": "5dcc581e",
      "metadata": {
        "id": "5dcc581e"
      },
      "source": [
        "2. Is the training dataset balanced in terms of class distribution?"
      ]
    },
    {
      "cell_type": "code",
      "source": [],
      "metadata": {
        "id": "9HovY_4r-LXd"
      },
      "id": "9HovY_4r-LXd",
      "execution_count": null,
      "outputs": []
    },
    {
      "cell_type": "markdown",
      "source": [
        "### Post-task survey: https://forms.gle/vmDCSUVrSaH4MHSd7"
      ],
      "metadata": {
        "id": "wIt1dwmQ6Q63"
      },
      "id": "wIt1dwmQ6Q63"
    },
    {
      "cell_type": "markdown",
      "id": "a4bc7508",
      "metadata": {
        "id": "a4bc7508"
      },
      "source": [
        "## Task 2: Preprocess and Clean the Data"
      ]
    },
    {
      "cell_type": "markdown",
      "id": "890aeb8a",
      "metadata": {
        "id": "890aeb8a"
      },
      "source": [
        "1. If the training dataset is imbalanced, what methods can we use to handle the imbalanced classes effectively? How might they impact the performance of our model?"
      ]
    },
    {
      "cell_type": "code",
      "source": [],
      "metadata": {
        "id": "a1mHrzII-NBz"
      },
      "id": "a1mHrzII-NBz",
      "execution_count": null,
      "outputs": []
    },
    {
      "cell_type": "markdown",
      "id": "18036f6f",
      "metadata": {
        "id": "18036f6f"
      },
      "source": [
        "\n",
        "2. Can we feed the training dataset directly into the model? If not, what process should be taken ahead?"
      ]
    },
    {
      "cell_type": "code",
      "source": [],
      "metadata": {
        "id": "taRCkjKI-OOz"
      },
      "id": "taRCkjKI-OOz",
      "execution_count": null,
      "outputs": []
    },
    {
      "cell_type": "markdown",
      "source": [
        "### Post-task survey: https://forms.gle/vmDCSUVrSaH4MHSd7"
      ],
      "metadata": {
        "id": "-ALVDT4v6oKj"
      },
      "id": "-ALVDT4v6oKj"
    },
    {
      "cell_type": "markdown",
      "id": "af5f0bad",
      "metadata": {
        "id": "af5f0bad"
      },
      "source": [
        "## Task 3: Model Development and Training"
      ]
    },
    {
      "cell_type": "markdown",
      "id": "cbd10267",
      "metadata": {
        "id": "cbd10267"
      },
      "source": [
        "1. Which embedding method should we use for this competition and why is this method suitable for this competition?"
      ]
    },
    {
      "cell_type": "code",
      "source": [],
      "metadata": {
        "id": "z_qEXYlg-Qhq"
      },
      "id": "z_qEXYlg-Qhq",
      "execution_count": null,
      "outputs": []
    },
    {
      "cell_type": "markdown",
      "id": "016c364f",
      "metadata": {
        "id": "016c364f"
      },
      "source": [
        "2. Which model should we use for this competition and why is this model suitable for this competition?"
      ]
    },
    {
      "cell_type": "code",
      "execution_count": null,
      "id": "96198df0",
      "metadata": {
        "id": "96198df0"
      },
      "outputs": [],
      "source": []
    },
    {
      "cell_type": "markdown",
      "source": [
        "### Post-task survey: https://forms.gle/vmDCSUVrSaH4MHSd7"
      ],
      "metadata": {
        "id": "uYsQRALb6qUH"
      },
      "id": "uYsQRALb6qUH"
    },
    {
      "cell_type": "markdown",
      "id": "c64b8d6d",
      "metadata": {
        "id": "c64b8d6d"
      },
      "source": [
        "## Task 4: Model Evaluation and Prediction"
      ]
    },
    {
      "cell_type": "markdown",
      "id": "03cc3855",
      "metadata": {
        "id": "03cc3855"
      },
      "source": [
        "1. What evaluation metrics should be used to assess the performance of the models in this competition and why?"
      ]
    },
    {
      "cell_type": "code",
      "source": [],
      "metadata": {
        "id": "34MOsNGC-UT9"
      },
      "id": "34MOsNGC-UT9",
      "execution_count": null,
      "outputs": []
    },
    {
      "cell_type": "markdown",
      "id": "04dd8c86",
      "metadata": {
        "id": "04dd8c86"
      },
      "source": [
        "2. Suppose you are using the Random Forest model as classifier. After initial model training and evaluation, what strategies can further improve the model's performance?"
      ]
    },
    {
      "cell_type": "code",
      "source": [],
      "metadata": {
        "id": "fqTVIBf1-T1Z"
      },
      "id": "fqTVIBf1-T1Z",
      "execution_count": null,
      "outputs": []
    },
    {
      "cell_type": "markdown",
      "source": [
        "### Post-task survey: https://forms.gle/vmDCSUVrSaH4MHSd7"
      ],
      "metadata": {
        "id": "pj5o0ejy6r2p"
      },
      "id": "pj5o0ejy6r2p"
    },
    {
      "cell_type": "markdown",
      "source": [
        "## Post-session Survey: https://forms.gle/TvF5DiEVjkW7BqtTA"
      ],
      "metadata": {
        "id": "sLkAQa5L6url"
      },
      "id": "sLkAQa5L6url"
    }
  ],
  "metadata": {
    "kernelspec": {
      "display_name": "Python 3 (ipykernel)",
      "language": "python",
      "name": "python3"
    },
    "language_info": {
      "codemirror_mode": {
        "name": "ipython",
        "version": 3
      },
      "file_extension": ".py",
      "mimetype": "text/x-python",
      "name": "python",
      "nbconvert_exporter": "python",
      "pygments_lexer": "ipython3",
      "version": "3.12.4"
    },
    "colab": {
      "provenance": [],
      "include_colab_link": true
    }
  },
  "nbformat": 4,
  "nbformat_minor": 5
}